{
 "cells": [
  {
   "cell_type": "code",
   "execution_count": 50,
   "id": "4321744a-3791-4969-babd-acf23813753c",
   "metadata": {
    "id": "4321744a-3791-4969-babd-acf23813753c"
   },
   "outputs": [],
   "source": [
    "import numpy as np\n",
    "import pandas as pd\n",
    "from collections import defaultdict\n",
    "from scipy import sparse\n",
    "import seaborn as sns\n",
    "from sklearn.metrics import f1_score, accuracy_score\n",
    "import torch\n",
    "import torch.nn as nn\n",
    "from torchmetrics.classification import BinaryF1Score\n",
    "from tqdm import tqdm"
   ]
  },
  {
   "cell_type": "code",
   "execution_count": 2,
   "id": "C-Op0WEoo91S",
   "metadata": {
    "id": "C-Op0WEoo91S"
   },
   "outputs": [],
   "source": [
    "sns.set(rc={'figure.figsize':(11.7,8.27)})"
   ]
  },
  {
   "cell_type": "markdown",
   "id": "8ead846f-4c5d-4d61-a6c7-61e5512fafcc",
   "metadata": {},
   "source": [
    "# Read data"
   ]
  },
  {
   "cell_type": "code",
   "execution_count": 3,
   "id": "9831c4a3-d325-4053-83b8-2e963e75106b",
   "metadata": {},
   "outputs": [
    {
     "data": {
      "text/html": [
       "<div>\n",
       "<style scoped>\n",
       "    .dataframe tbody tr th:only-of-type {\n",
       "        vertical-align: middle;\n",
       "    }\n",
       "\n",
       "    .dataframe tbody tr th {\n",
       "        vertical-align: top;\n",
       "    }\n",
       "\n",
       "    .dataframe thead th {\n",
       "        text-align: right;\n",
       "    }\n",
       "</style>\n",
       "<table border=\"1\" class=\"dataframe\">\n",
       "  <thead>\n",
       "    <tr style=\"text-align: right;\">\n",
       "      <th></th>\n",
       "      <th>0</th>\n",
       "      <th>1</th>\n",
       "      <th>2</th>\n",
       "    </tr>\n",
       "  </thead>\n",
       "  <tbody>\n",
       "    <tr>\n",
       "      <th>0</th>\n",
       "      <td>3</td>\n",
       "      <td>Wall St. Bears Claw Back Into the Black (Reuters)</td>\n",
       "      <td>Reuters - Short-sellers, Wall Street's dwindli...</td>\n",
       "    </tr>\n",
       "    <tr>\n",
       "      <th>1</th>\n",
       "      <td>3</td>\n",
       "      <td>Carlyle Looks Toward Commercial Aerospace (Reu...</td>\n",
       "      <td>Reuters - Private investment firm Carlyle Grou...</td>\n",
       "    </tr>\n",
       "    <tr>\n",
       "      <th>2</th>\n",
       "      <td>3</td>\n",
       "      <td>Oil and Economy Cloud Stocks' Outlook (Reuters)</td>\n",
       "      <td>Reuters - Soaring crude prices plus worries\\ab...</td>\n",
       "    </tr>\n",
       "    <tr>\n",
       "      <th>3</th>\n",
       "      <td>3</td>\n",
       "      <td>Iraq Halts Oil Exports from Main Southern Pipe...</td>\n",
       "      <td>Reuters - Authorities have halted oil export\\f...</td>\n",
       "    </tr>\n",
       "    <tr>\n",
       "      <th>4</th>\n",
       "      <td>3</td>\n",
       "      <td>Oil prices soar to all-time record, posing new...</td>\n",
       "      <td>AFP - Tearaway world oil prices, toppling reco...</td>\n",
       "    </tr>\n",
       "    <tr>\n",
       "      <th>...</th>\n",
       "      <td>...</td>\n",
       "      <td>...</td>\n",
       "      <td>...</td>\n",
       "    </tr>\n",
       "    <tr>\n",
       "      <th>119995</th>\n",
       "      <td>1</td>\n",
       "      <td>Pakistan's Musharraf Says Won't Quit as Army C...</td>\n",
       "      <td>KARACHI (Reuters) - Pakistani President Perve...</td>\n",
       "    </tr>\n",
       "    <tr>\n",
       "      <th>119996</th>\n",
       "      <td>2</td>\n",
       "      <td>Renteria signing a top-shelf deal</td>\n",
       "      <td>Red Sox general manager Theo Epstein acknowled...</td>\n",
       "    </tr>\n",
       "    <tr>\n",
       "      <th>119997</th>\n",
       "      <td>2</td>\n",
       "      <td>Saban not going to Dolphins yet</td>\n",
       "      <td>The Miami Dolphins will put their courtship of...</td>\n",
       "    </tr>\n",
       "    <tr>\n",
       "      <th>119998</th>\n",
       "      <td>2</td>\n",
       "      <td>Today's NFL games</td>\n",
       "      <td>PITTSBURGH at NY GIANTS Time: 1:30 p.m. Line: ...</td>\n",
       "    </tr>\n",
       "    <tr>\n",
       "      <th>119999</th>\n",
       "      <td>2</td>\n",
       "      <td>Nets get Carter from Raptors</td>\n",
       "      <td>INDIANAPOLIS -- All-Star Vince Carter was trad...</td>\n",
       "    </tr>\n",
       "  </tbody>\n",
       "</table>\n",
       "<p>120000 rows × 3 columns</p>\n",
       "</div>"
      ],
      "text/plain": [
       "        0                                                  1  \\\n",
       "0       3  Wall St. Bears Claw Back Into the Black (Reuters)   \n",
       "1       3  Carlyle Looks Toward Commercial Aerospace (Reu...   \n",
       "2       3    Oil and Economy Cloud Stocks' Outlook (Reuters)   \n",
       "3       3  Iraq Halts Oil Exports from Main Southern Pipe...   \n",
       "4       3  Oil prices soar to all-time record, posing new...   \n",
       "...    ..                                                ...   \n",
       "119995  1  Pakistan's Musharraf Says Won't Quit as Army C...   \n",
       "119996  2                  Renteria signing a top-shelf deal   \n",
       "119997  2                    Saban not going to Dolphins yet   \n",
       "119998  2                                  Today's NFL games   \n",
       "119999  2                       Nets get Carter from Raptors   \n",
       "\n",
       "                                                        2  \n",
       "0       Reuters - Short-sellers, Wall Street's dwindli...  \n",
       "1       Reuters - Private investment firm Carlyle Grou...  \n",
       "2       Reuters - Soaring crude prices plus worries\\ab...  \n",
       "3       Reuters - Authorities have halted oil export\\f...  \n",
       "4       AFP - Tearaway world oil prices, toppling reco...  \n",
       "...                                                   ...  \n",
       "119995   KARACHI (Reuters) - Pakistani President Perve...  \n",
       "119996  Red Sox general manager Theo Epstein acknowled...  \n",
       "119997  The Miami Dolphins will put their courtship of...  \n",
       "119998  PITTSBURGH at NY GIANTS Time: 1:30 p.m. Line: ...  \n",
       "119999  INDIANAPOLIS -- All-Star Vince Carter was trad...  \n",
       "\n",
       "[120000 rows x 3 columns]"
      ]
     },
     "execution_count": 3,
     "metadata": {},
     "output_type": "execute_result"
    }
   ],
   "source": [
    "train_data = pd.read_csv(\"./data/train.csv\", header=None)\n",
    "train_data"
   ]
  },
  {
   "cell_type": "code",
   "execution_count": 5,
   "id": "fa3c75db-0a31-4f6f-a851-a6df5add27c7",
   "metadata": {},
   "outputs": [
    {
     "data": {
      "text/plain": [
       "(120000, 3)"
      ]
     },
     "execution_count": 5,
     "metadata": {},
     "output_type": "execute_result"
    }
   ],
   "source": [
    "train_data.shape"
   ]
  },
  {
   "cell_type": "code",
   "execution_count": 8,
   "id": "df60faf5-a2a8-4987-b067-1eb08af40503",
   "metadata": {},
   "outputs": [],
   "source": [
    "# reduce to 1,000 rows\n",
    "train_data = train_data[0:1000]"
   ]
  },
  {
   "cell_type": "code",
   "execution_count": 31,
   "id": "49f4db02-dc78-46ae-8df8-748c25fe17ab",
   "metadata": {},
   "outputs": [],
   "source": [
    "test_data = pd.read_csv(\"./data/test.csv\", header=None)"
   ]
  },
  {
   "cell_type": "code",
   "execution_count": 32,
   "id": "bcb4ce59-bbd2-42a0-b7c3-a0e977e61449",
   "metadata": {},
   "outputs": [
    {
     "data": {
      "text/plain": [
       "(7600, 3)"
      ]
     },
     "execution_count": 32,
     "metadata": {},
     "output_type": "execute_result"
    }
   ],
   "source": [
    "test_data.shape"
   ]
  },
  {
   "cell_type": "code",
   "execution_count": 33,
   "id": "40ea68e0-98e1-4bd5-a583-a4fd31225a82",
   "metadata": {},
   "outputs": [],
   "source": [
    "# reduce to 1,000 rows\n",
    "test_data = test_data[0:1000]"
   ]
  },
  {
   "cell_type": "markdown",
   "id": "3e82769d-9a1d-4d9f-9b76-131d305a0448",
   "metadata": {},
   "source": [
    "#### Rename columns"
   ]
  },
  {
   "cell_type": "code",
   "execution_count": 9,
   "id": "e740b0ad-eb19-415e-9a30-54df2600b618",
   "metadata": {},
   "outputs": [
    {
     "name": "stderr",
     "output_type": "stream",
     "text": [
      "/var/folders/gg/c_1qbqks74vfktzlk54zz3240000gn/T/ipykernel_11429/1493289334.py:1: SettingWithCopyWarning: \n",
      "A value is trying to be set on a copy of a slice from a DataFrame\n",
      "\n",
      "See the caveats in the documentation: https://pandas.pydata.org/pandas-docs/stable/user_guide/indexing.html#returning-a-view-versus-a-copy\n",
      "  train_data.rename(columns={0: 'label', 1: 'title', 2: 'description'}, inplace=True)\n"
     ]
    }
   ],
   "source": [
    "train_data.rename(columns={0: 'label', 1: 'title', 2: 'description'}, inplace=True)"
   ]
  },
  {
   "cell_type": "code",
   "execution_count": 34,
   "id": "3563a397-f88d-49e6-824d-c53869a5d733",
   "metadata": {},
   "outputs": [],
   "source": [
    "test_data.rename(columns={0: 'label', 1: 'title', 2: 'description'}, inplace=True)"
   ]
  },
  {
   "cell_type": "code",
   "execution_count": 35,
   "id": "8b84522a-28c3-4ef2-8e54-0349b25fddf4",
   "metadata": {},
   "outputs": [
    {
     "data": {
      "text/html": [
       "<div>\n",
       "<style scoped>\n",
       "    .dataframe tbody tr th:only-of-type {\n",
       "        vertical-align: middle;\n",
       "    }\n",
       "\n",
       "    .dataframe tbody tr th {\n",
       "        vertical-align: top;\n",
       "    }\n",
       "\n",
       "    .dataframe thead th {\n",
       "        text-align: right;\n",
       "    }\n",
       "</style>\n",
       "<table border=\"1\" class=\"dataframe\">\n",
       "  <thead>\n",
       "    <tr style=\"text-align: right;\">\n",
       "      <th></th>\n",
       "      <th>label</th>\n",
       "      <th>title</th>\n",
       "      <th>description</th>\n",
       "    </tr>\n",
       "  </thead>\n",
       "  <tbody>\n",
       "    <tr>\n",
       "      <th>0</th>\n",
       "      <td>3</td>\n",
       "      <td>Fears for T N pension after talks</td>\n",
       "      <td>Unions representing workers at Turner   Newall...</td>\n",
       "    </tr>\n",
       "    <tr>\n",
       "      <th>1</th>\n",
       "      <td>4</td>\n",
       "      <td>The Race is On: Second Private Team Sets Launc...</td>\n",
       "      <td>SPACE.com - TORONTO, Canada -- A second\\team o...</td>\n",
       "    </tr>\n",
       "    <tr>\n",
       "      <th>2</th>\n",
       "      <td>4</td>\n",
       "      <td>Ky. Company Wins Grant to Study Peptides (AP)</td>\n",
       "      <td>AP - A company founded by a chemistry research...</td>\n",
       "    </tr>\n",
       "    <tr>\n",
       "      <th>3</th>\n",
       "      <td>4</td>\n",
       "      <td>Prediction Unit Helps Forecast Wildfires (AP)</td>\n",
       "      <td>AP - It's barely dawn when Mike Fitzpatrick st...</td>\n",
       "    </tr>\n",
       "    <tr>\n",
       "      <th>4</th>\n",
       "      <td>4</td>\n",
       "      <td>Calif. Aims to Limit Farm-Related Smog (AP)</td>\n",
       "      <td>AP - Southern California's smog-fighting agenc...</td>\n",
       "    </tr>\n",
       "    <tr>\n",
       "      <th>...</th>\n",
       "      <td>...</td>\n",
       "      <td>...</td>\n",
       "      <td>...</td>\n",
       "    </tr>\n",
       "    <tr>\n",
       "      <th>995</th>\n",
       "      <td>2</td>\n",
       "      <td>Mariners riding the Ichiro wave</td>\n",
       "      <td>Ichiro Suzuki singled three times last night t...</td>\n",
       "    </tr>\n",
       "    <tr>\n",
       "      <th>996</th>\n",
       "      <td>2</td>\n",
       "      <td>Wharf marks debut with wickets</td>\n",
       "      <td>In-form Alex Wharf made an impressive start to...</td>\n",
       "    </tr>\n",
       "    <tr>\n",
       "      <th>997</th>\n",
       "      <td>2</td>\n",
       "      <td>Roddick blisters junior champ</td>\n",
       "      <td>By the time his match with Andy Roddick was ov...</td>\n",
       "    </tr>\n",
       "    <tr>\n",
       "      <th>998</th>\n",
       "      <td>4</td>\n",
       "      <td>AMD dual-core demo pips Intel, IBM</td>\n",
       "      <td>AMD has demonstrated the company #39;s first d...</td>\n",
       "    </tr>\n",
       "    <tr>\n",
       "      <th>999</th>\n",
       "      <td>1</td>\n",
       "      <td>Gunmen ambush Chalabi #39;s convoy, wound 2</td>\n",
       "      <td>BAGHDAD - Gunmen ambushed the convoy of former...</td>\n",
       "    </tr>\n",
       "  </tbody>\n",
       "</table>\n",
       "<p>1000 rows × 3 columns</p>\n",
       "</div>"
      ],
      "text/plain": [
       "     label                                              title  \\\n",
       "0        3                  Fears for T N pension after talks   \n",
       "1        4  The Race is On: Second Private Team Sets Launc...   \n",
       "2        4      Ky. Company Wins Grant to Study Peptides (AP)   \n",
       "3        4      Prediction Unit Helps Forecast Wildfires (AP)   \n",
       "4        4        Calif. Aims to Limit Farm-Related Smog (AP)   \n",
       "..     ...                                                ...   \n",
       "995      2                    Mariners riding the Ichiro wave   \n",
       "996      2                     Wharf marks debut with wickets   \n",
       "997      2                      Roddick blisters junior champ   \n",
       "998      4                 AMD dual-core demo pips Intel, IBM   \n",
       "999      1        Gunmen ambush Chalabi #39;s convoy, wound 2   \n",
       "\n",
       "                                           description  \n",
       "0    Unions representing workers at Turner   Newall...  \n",
       "1    SPACE.com - TORONTO, Canada -- A second\\team o...  \n",
       "2    AP - A company founded by a chemistry research...  \n",
       "3    AP - It's barely dawn when Mike Fitzpatrick st...  \n",
       "4    AP - Southern California's smog-fighting agenc...  \n",
       "..                                                 ...  \n",
       "995  Ichiro Suzuki singled three times last night t...  \n",
       "996  In-form Alex Wharf made an impressive start to...  \n",
       "997  By the time his match with Andy Roddick was ov...  \n",
       "998  AMD has demonstrated the company #39;s first d...  \n",
       "999  BAGHDAD - Gunmen ambushed the convoy of former...  \n",
       "\n",
       "[1000 rows x 3 columns]"
      ]
     },
     "execution_count": 35,
     "metadata": {},
     "output_type": "execute_result"
    }
   ],
   "source": [
    "test_data"
   ]
  },
  {
   "cell_type": "markdown",
   "id": "1db75205-94eb-4f3f-85d6-d8d67801d15d",
   "metadata": {},
   "source": [
    "#### Merge title and description to create the text column"
   ]
  },
  {
   "cell_type": "code",
   "execution_count": 10,
   "id": "6c570eea-8b4a-4051-b924-5a2996b34c92",
   "metadata": {},
   "outputs": [
    {
     "name": "stderr",
     "output_type": "stream",
     "text": [
      "/var/folders/gg/c_1qbqks74vfktzlk54zz3240000gn/T/ipykernel_11429/3258434818.py:1: SettingWithCopyWarning: \n",
      "A value is trying to be set on a copy of a slice from a DataFrame.\n",
      "Try using .loc[row_indexer,col_indexer] = value instead\n",
      "\n",
      "See the caveats in the documentation: https://pandas.pydata.org/pandas-docs/stable/user_guide/indexing.html#returning-a-view-versus-a-copy\n",
      "  train_data['text'] = train_data['title'] + train_data['description']\n"
     ]
    }
   ],
   "source": [
    "train_data['text'] = train_data['title'] + train_data['description']"
   ]
  },
  {
   "cell_type": "code",
   "execution_count": 11,
   "id": "bc4b2b31-6951-46ce-b3e8-a80d1f8bd1b8",
   "metadata": {},
   "outputs": [
    {
     "data": {
      "text/html": [
       "<div>\n",
       "<style scoped>\n",
       "    .dataframe tbody tr th:only-of-type {\n",
       "        vertical-align: middle;\n",
       "    }\n",
       "\n",
       "    .dataframe tbody tr th {\n",
       "        vertical-align: top;\n",
       "    }\n",
       "\n",
       "    .dataframe thead th {\n",
       "        text-align: right;\n",
       "    }\n",
       "</style>\n",
       "<table border=\"1\" class=\"dataframe\">\n",
       "  <thead>\n",
       "    <tr style=\"text-align: right;\">\n",
       "      <th></th>\n",
       "      <th>label</th>\n",
       "      <th>title</th>\n",
       "      <th>description</th>\n",
       "      <th>text</th>\n",
       "    </tr>\n",
       "  </thead>\n",
       "  <tbody>\n",
       "    <tr>\n",
       "      <th>0</th>\n",
       "      <td>3</td>\n",
       "      <td>Wall St. Bears Claw Back Into the Black (Reuters)</td>\n",
       "      <td>Reuters - Short-sellers, Wall Street's dwindli...</td>\n",
       "      <td>Wall St. Bears Claw Back Into the Black (Reute...</td>\n",
       "    </tr>\n",
       "    <tr>\n",
       "      <th>1</th>\n",
       "      <td>3</td>\n",
       "      <td>Carlyle Looks Toward Commercial Aerospace (Reu...</td>\n",
       "      <td>Reuters - Private investment firm Carlyle Grou...</td>\n",
       "      <td>Carlyle Looks Toward Commercial Aerospace (Reu...</td>\n",
       "    </tr>\n",
       "    <tr>\n",
       "      <th>2</th>\n",
       "      <td>3</td>\n",
       "      <td>Oil and Economy Cloud Stocks' Outlook (Reuters)</td>\n",
       "      <td>Reuters - Soaring crude prices plus worries\\ab...</td>\n",
       "      <td>Oil and Economy Cloud Stocks' Outlook (Reuters...</td>\n",
       "    </tr>\n",
       "    <tr>\n",
       "      <th>3</th>\n",
       "      <td>3</td>\n",
       "      <td>Iraq Halts Oil Exports from Main Southern Pipe...</td>\n",
       "      <td>Reuters - Authorities have halted oil export\\f...</td>\n",
       "      <td>Iraq Halts Oil Exports from Main Southern Pipe...</td>\n",
       "    </tr>\n",
       "    <tr>\n",
       "      <th>4</th>\n",
       "      <td>3</td>\n",
       "      <td>Oil prices soar to all-time record, posing new...</td>\n",
       "      <td>AFP - Tearaway world oil prices, toppling reco...</td>\n",
       "      <td>Oil prices soar to all-time record, posing new...</td>\n",
       "    </tr>\n",
       "    <tr>\n",
       "      <th>...</th>\n",
       "      <td>...</td>\n",
       "      <td>...</td>\n",
       "      <td>...</td>\n",
       "      <td>...</td>\n",
       "    </tr>\n",
       "    <tr>\n",
       "      <th>995</th>\n",
       "      <td>3</td>\n",
       "      <td>U.S. Stocks Rebound as Oil Prices Ease</td>\n",
       "      <td>NEW YORK (Reuters) - U.S. stocks rebounded on...</td>\n",
       "      <td>U.S. Stocks Rebound as Oil Prices Ease NEW YOR...</td>\n",
       "    </tr>\n",
       "    <tr>\n",
       "      <th>996</th>\n",
       "      <td>3</td>\n",
       "      <td>Dollar Rises Vs Euro After Asset Data</td>\n",
       "      <td>NEW YORK (Reuters) - The dollar gained agains...</td>\n",
       "      <td>Dollar Rises Vs Euro After Asset Data NEW YORK...</td>\n",
       "    </tr>\n",
       "    <tr>\n",
       "      <th>997</th>\n",
       "      <td>4</td>\n",
       "      <td>Bikes Bring Internet to Indian Villagers (AP)</td>\n",
       "      <td>AP - For 12-year-old Anju Sharma, hope for a b...</td>\n",
       "      <td>Bikes Bring Internet to Indian Villagers (AP)A...</td>\n",
       "    </tr>\n",
       "    <tr>\n",
       "      <th>998</th>\n",
       "      <td>4</td>\n",
       "      <td>Celebrity Chefs Are Everywhere in Vegas</td>\n",
       "      <td>By ADAM GOLDMAN    LAS VEGAS (AP) -- The waite...</td>\n",
       "      <td>Celebrity Chefs Are Everywhere in VegasBy ADAM...</td>\n",
       "    </tr>\n",
       "    <tr>\n",
       "      <th>999</th>\n",
       "      <td>4</td>\n",
       "      <td>Entertainment World Wary of Microsoft Technology</td>\n",
       "      <td>By GARY GENTILE    LOS ANGELES (AP) -- CinemaN...</td>\n",
       "      <td>Entertainment World Wary of Microsoft Technolo...</td>\n",
       "    </tr>\n",
       "  </tbody>\n",
       "</table>\n",
       "<p>1000 rows × 4 columns</p>\n",
       "</div>"
      ],
      "text/plain": [
       "     label                                              title  \\\n",
       "0        3  Wall St. Bears Claw Back Into the Black (Reuters)   \n",
       "1        3  Carlyle Looks Toward Commercial Aerospace (Reu...   \n",
       "2        3    Oil and Economy Cloud Stocks' Outlook (Reuters)   \n",
       "3        3  Iraq Halts Oil Exports from Main Southern Pipe...   \n",
       "4        3  Oil prices soar to all-time record, posing new...   \n",
       "..     ...                                                ...   \n",
       "995      3             U.S. Stocks Rebound as Oil Prices Ease   \n",
       "996      3              Dollar Rises Vs Euro After Asset Data   \n",
       "997      4      Bikes Bring Internet to Indian Villagers (AP)   \n",
       "998      4            Celebrity Chefs Are Everywhere in Vegas   \n",
       "999      4   Entertainment World Wary of Microsoft Technology   \n",
       "\n",
       "                                           description  \\\n",
       "0    Reuters - Short-sellers, Wall Street's dwindli...   \n",
       "1    Reuters - Private investment firm Carlyle Grou...   \n",
       "2    Reuters - Soaring crude prices plus worries\\ab...   \n",
       "3    Reuters - Authorities have halted oil export\\f...   \n",
       "4    AFP - Tearaway world oil prices, toppling reco...   \n",
       "..                                                 ...   \n",
       "995   NEW YORK (Reuters) - U.S. stocks rebounded on...   \n",
       "996   NEW YORK (Reuters) - The dollar gained agains...   \n",
       "997  AP - For 12-year-old Anju Sharma, hope for a b...   \n",
       "998  By ADAM GOLDMAN    LAS VEGAS (AP) -- The waite...   \n",
       "999  By GARY GENTILE    LOS ANGELES (AP) -- CinemaN...   \n",
       "\n",
       "                                                  text  \n",
       "0    Wall St. Bears Claw Back Into the Black (Reute...  \n",
       "1    Carlyle Looks Toward Commercial Aerospace (Reu...  \n",
       "2    Oil and Economy Cloud Stocks' Outlook (Reuters...  \n",
       "3    Iraq Halts Oil Exports from Main Southern Pipe...  \n",
       "4    Oil prices soar to all-time record, posing new...  \n",
       "..                                                 ...  \n",
       "995  U.S. Stocks Rebound as Oil Prices Ease NEW YOR...  \n",
       "996  Dollar Rises Vs Euro After Asset Data NEW YORK...  \n",
       "997  Bikes Bring Internet to Indian Villagers (AP)A...  \n",
       "998  Celebrity Chefs Are Everywhere in VegasBy ADAM...  \n",
       "999  Entertainment World Wary of Microsoft Technolo...  \n",
       "\n",
       "[1000 rows x 4 columns]"
      ]
     },
     "execution_count": 11,
     "metadata": {},
     "output_type": "execute_result"
    }
   ],
   "source": [
    "train_data"
   ]
  },
  {
   "cell_type": "code",
   "execution_count": 36,
   "id": "7f008e62-c509-4e91-8bdf-445f8abae125",
   "metadata": {},
   "outputs": [],
   "source": [
    "test_data['text'] = test_data['title'] + test_data['description']"
   ]
  },
  {
   "cell_type": "code",
   "execution_count": 37,
   "id": "f29ef85e-2f98-4e6f-92e7-30c47fe1632a",
   "metadata": {},
   "outputs": [
    {
     "data": {
      "text/html": [
       "<div>\n",
       "<style scoped>\n",
       "    .dataframe tbody tr th:only-of-type {\n",
       "        vertical-align: middle;\n",
       "    }\n",
       "\n",
       "    .dataframe tbody tr th {\n",
       "        vertical-align: top;\n",
       "    }\n",
       "\n",
       "    .dataframe thead th {\n",
       "        text-align: right;\n",
       "    }\n",
       "</style>\n",
       "<table border=\"1\" class=\"dataframe\">\n",
       "  <thead>\n",
       "    <tr style=\"text-align: right;\">\n",
       "      <th></th>\n",
       "      <th>label</th>\n",
       "      <th>title</th>\n",
       "      <th>description</th>\n",
       "      <th>text</th>\n",
       "    </tr>\n",
       "  </thead>\n",
       "  <tbody>\n",
       "    <tr>\n",
       "      <th>0</th>\n",
       "      <td>3</td>\n",
       "      <td>Fears for T N pension after talks</td>\n",
       "      <td>Unions representing workers at Turner   Newall...</td>\n",
       "      <td>Fears for T N pension after talksUnions repres...</td>\n",
       "    </tr>\n",
       "    <tr>\n",
       "      <th>1</th>\n",
       "      <td>4</td>\n",
       "      <td>The Race is On: Second Private Team Sets Launc...</td>\n",
       "      <td>SPACE.com - TORONTO, Canada -- A second\\team o...</td>\n",
       "      <td>The Race is On: Second Private Team Sets Launc...</td>\n",
       "    </tr>\n",
       "    <tr>\n",
       "      <th>2</th>\n",
       "      <td>4</td>\n",
       "      <td>Ky. Company Wins Grant to Study Peptides (AP)</td>\n",
       "      <td>AP - A company founded by a chemistry research...</td>\n",
       "      <td>Ky. Company Wins Grant to Study Peptides (AP)A...</td>\n",
       "    </tr>\n",
       "    <tr>\n",
       "      <th>3</th>\n",
       "      <td>4</td>\n",
       "      <td>Prediction Unit Helps Forecast Wildfires (AP)</td>\n",
       "      <td>AP - It's barely dawn when Mike Fitzpatrick st...</td>\n",
       "      <td>Prediction Unit Helps Forecast Wildfires (AP)A...</td>\n",
       "    </tr>\n",
       "    <tr>\n",
       "      <th>4</th>\n",
       "      <td>4</td>\n",
       "      <td>Calif. Aims to Limit Farm-Related Smog (AP)</td>\n",
       "      <td>AP - Southern California's smog-fighting agenc...</td>\n",
       "      <td>Calif. Aims to Limit Farm-Related Smog (AP)AP ...</td>\n",
       "    </tr>\n",
       "    <tr>\n",
       "      <th>...</th>\n",
       "      <td>...</td>\n",
       "      <td>...</td>\n",
       "      <td>...</td>\n",
       "      <td>...</td>\n",
       "    </tr>\n",
       "    <tr>\n",
       "      <th>995</th>\n",
       "      <td>2</td>\n",
       "      <td>Mariners riding the Ichiro wave</td>\n",
       "      <td>Ichiro Suzuki singled three times last night t...</td>\n",
       "      <td>Mariners riding the Ichiro waveIchiro Suzuki s...</td>\n",
       "    </tr>\n",
       "    <tr>\n",
       "      <th>996</th>\n",
       "      <td>2</td>\n",
       "      <td>Wharf marks debut with wickets</td>\n",
       "      <td>In-form Alex Wharf made an impressive start to...</td>\n",
       "      <td>Wharf marks debut with wicketsIn-form Alex Wha...</td>\n",
       "    </tr>\n",
       "    <tr>\n",
       "      <th>997</th>\n",
       "      <td>2</td>\n",
       "      <td>Roddick blisters junior champ</td>\n",
       "      <td>By the time his match with Andy Roddick was ov...</td>\n",
       "      <td>Roddick blisters junior champBy the time his m...</td>\n",
       "    </tr>\n",
       "    <tr>\n",
       "      <th>998</th>\n",
       "      <td>4</td>\n",
       "      <td>AMD dual-core demo pips Intel, IBM</td>\n",
       "      <td>AMD has demonstrated the company #39;s first d...</td>\n",
       "      <td>AMD dual-core demo pips Intel, IBMAMD has demo...</td>\n",
       "    </tr>\n",
       "    <tr>\n",
       "      <th>999</th>\n",
       "      <td>1</td>\n",
       "      <td>Gunmen ambush Chalabi #39;s convoy, wound 2</td>\n",
       "      <td>BAGHDAD - Gunmen ambushed the convoy of former...</td>\n",
       "      <td>Gunmen ambush Chalabi #39;s convoy, wound 2BAG...</td>\n",
       "    </tr>\n",
       "  </tbody>\n",
       "</table>\n",
       "<p>1000 rows × 4 columns</p>\n",
       "</div>"
      ],
      "text/plain": [
       "     label                                              title  \\\n",
       "0        3                  Fears for T N pension after talks   \n",
       "1        4  The Race is On: Second Private Team Sets Launc...   \n",
       "2        4      Ky. Company Wins Grant to Study Peptides (AP)   \n",
       "3        4      Prediction Unit Helps Forecast Wildfires (AP)   \n",
       "4        4        Calif. Aims to Limit Farm-Related Smog (AP)   \n",
       "..     ...                                                ...   \n",
       "995      2                    Mariners riding the Ichiro wave   \n",
       "996      2                     Wharf marks debut with wickets   \n",
       "997      2                      Roddick blisters junior champ   \n",
       "998      4                 AMD dual-core demo pips Intel, IBM   \n",
       "999      1        Gunmen ambush Chalabi #39;s convoy, wound 2   \n",
       "\n",
       "                                           description  \\\n",
       "0    Unions representing workers at Turner   Newall...   \n",
       "1    SPACE.com - TORONTO, Canada -- A second\\team o...   \n",
       "2    AP - A company founded by a chemistry research...   \n",
       "3    AP - It's barely dawn when Mike Fitzpatrick st...   \n",
       "4    AP - Southern California's smog-fighting agenc...   \n",
       "..                                                 ...   \n",
       "995  Ichiro Suzuki singled three times last night t...   \n",
       "996  In-form Alex Wharf made an impressive start to...   \n",
       "997  By the time his match with Andy Roddick was ov...   \n",
       "998  AMD has demonstrated the company #39;s first d...   \n",
       "999  BAGHDAD - Gunmen ambushed the convoy of former...   \n",
       "\n",
       "                                                  text  \n",
       "0    Fears for T N pension after talksUnions repres...  \n",
       "1    The Race is On: Second Private Team Sets Launc...  \n",
       "2    Ky. Company Wins Grant to Study Peptides (AP)A...  \n",
       "3    Prediction Unit Helps Forecast Wildfires (AP)A...  \n",
       "4    Calif. Aims to Limit Farm-Related Smog (AP)AP ...  \n",
       "..                                                 ...  \n",
       "995  Mariners riding the Ichiro waveIchiro Suzuki s...  \n",
       "996  Wharf marks debut with wicketsIn-form Alex Wha...  \n",
       "997  Roddick blisters junior champBy the time his m...  \n",
       "998  AMD dual-core demo pips Intel, IBMAMD has demo...  \n",
       "999  Gunmen ambush Chalabi #39;s convoy, wound 2BAG...  \n",
       "\n",
       "[1000 rows x 4 columns]"
      ]
     },
     "execution_count": 37,
     "metadata": {},
     "output_type": "execute_result"
    }
   ],
   "source": [
    "test_data"
   ]
  },
  {
   "cell_type": "markdown",
   "id": "5a29a4c7-a0b0-4dd6-80b2-174f4bb17178",
   "metadata": {},
   "source": [
    "# Explore tokenization"
   ]
  },
  {
   "cell_type": "code",
   "execution_count": 12,
   "id": "995cbb37-2c3b-474f-a274-4c397de5da58",
   "metadata": {
    "id": "995cbb37-2c3b-474f-a274-4c397de5da58"
   },
   "outputs": [],
   "source": [
    "def tokenize(text):\n",
    "    # default delimiter is space\n",
    "    return text.split()"
   ]
  },
  {
   "cell_type": "code",
   "execution_count": 13,
   "id": "d6d02cca-9730-4ade-a00b-86774d9ac69d",
   "metadata": {
    "colab": {
     "base_uri": "https://localhost:8080/"
    },
    "id": "d6d02cca-9730-4ade-a00b-86774d9ac69d",
    "outputId": "b263e221-c0a4-4e74-fb88-31d3f90193e1"
   },
   "outputs": [
    {
     "data": {
      "text/plain": [
       "['Oil',\n",
       " 'and',\n",
       " 'Economy',\n",
       " 'Cloud',\n",
       " \"Stocks'\",\n",
       " 'Outlook',\n",
       " '(Reuters)Reuters',\n",
       " '-',\n",
       " 'Soaring',\n",
       " 'crude',\n",
       " 'prices',\n",
       " 'plus',\n",
       " 'worries\\\\about',\n",
       " 'the',\n",
       " 'economy',\n",
       " 'and',\n",
       " 'the',\n",
       " 'outlook',\n",
       " 'for',\n",
       " 'earnings',\n",
       " 'are',\n",
       " 'expected',\n",
       " 'to\\\\hang',\n",
       " 'over',\n",
       " 'the',\n",
       " 'stock',\n",
       " 'market',\n",
       " 'next',\n",
       " 'week',\n",
       " 'during',\n",
       " 'the',\n",
       " 'depth',\n",
       " 'of',\n",
       " 'the\\\\summer',\n",
       " 'doldrums.']"
      ]
     },
     "execution_count": 13,
     "metadata": {},
     "output_type": "execute_result"
    }
   ],
   "source": [
    "tokenized_docs = []\n",
    "documents = train_data['text'].values\n",
    "for doc in documents:\n",
    "    tokenized_docs.append(tokenize(doc))\n",
    "tokenized_docs[2]"
   ]
  },
  {
   "cell_type": "code",
   "execution_count": 14,
   "id": "5937616a-7062-4d60-940d-5b357611c30b",
   "metadata": {
    "id": "5937616a-7062-4d60-940d-5b357611c30b"
   },
   "outputs": [],
   "source": [
    "def better_tokenize(text):\n",
    "    # make all text lowercase to get rid of case issues, not sure how this will affect the model performance but I'll give it a try nonetheless\n",
    "    text = text.lower()\n",
    "    text = text.replace(\",\", \" , \").replace(\".\", \" . \").replace(\"-\", \" - \").replace(\";\", \" ; \").replace(\"!\", \" ! \").replace(\"?\", \" ? \").replace(\"’ve\", \"  ’ve\").replace(\"’re\", \" ’re\")\n",
    "    all_tokens = text.split()\n",
    "    for i in range(len(all_tokens)):\n",
    "        all_tokens[i] = all_tokens[i].strip()\n",
    "    return all_tokens"
   ]
  },
  {
   "cell_type": "code",
   "execution_count": 15,
   "id": "fd7715b6-f92f-462a-86d7-636404fd87f8",
   "metadata": {
    "colab": {
     "base_uri": "https://localhost:8080/"
    },
    "id": "fd7715b6-f92f-462a-86d7-636404fd87f8",
    "outputId": "01db9eda-ae18-4ce8-81e4-c85b9b98859f"
   },
   "outputs": [
    {
     "data": {
      "text/plain": [
       "['oil',\n",
       " 'and',\n",
       " 'economy',\n",
       " 'cloud',\n",
       " \"stocks'\",\n",
       " 'outlook',\n",
       " '(reuters)reuters',\n",
       " '-',\n",
       " 'soaring',\n",
       " 'crude',\n",
       " 'prices',\n",
       " 'plus',\n",
       " 'worries\\\\about',\n",
       " 'the',\n",
       " 'economy',\n",
       " 'and',\n",
       " 'the',\n",
       " 'outlook',\n",
       " 'for',\n",
       " 'earnings',\n",
       " 'are',\n",
       " 'expected',\n",
       " 'to\\\\hang',\n",
       " 'over',\n",
       " 'the',\n",
       " 'stock',\n",
       " 'market',\n",
       " 'next',\n",
       " 'week',\n",
       " 'during',\n",
       " 'the',\n",
       " 'depth',\n",
       " 'of',\n",
       " 'the\\\\summer',\n",
       " 'doldrums',\n",
       " '.']"
      ]
     },
     "execution_count": 15,
     "metadata": {},
     "output_type": "execute_result"
    }
   ],
   "source": [
    "tokenized_docs = []\n",
    "documents = train_data['text'].values\n",
    "for doc in documents:\n",
    "    tokenized_docs.append(better_tokenize(doc))\n",
    "tokenized_docs[2]"
   ]
  },
  {
   "cell_type": "markdown",
   "id": "18842101-e993-497d-a25c-3e520aeab245",
   "metadata": {
    "id": "18842101-e993-497d-a25c-3e520aeab245"
   },
   "source": [
    "#### This is a better tokenizer than what we had earlier and addresses the issues with the older tokenizer() method."
   ]
  },
  {
   "cell_type": "markdown",
   "id": "e7c73fff-0857-430a-bb63-34a69a5104c2",
   "metadata": {
    "id": "e7c73fff-0857-430a-bb63-34a69a5104c2",
    "tags": []
   },
   "source": [
    "#### Creating the Term-Document Matrix"
   ]
  },
  {
   "cell_type": "code",
   "execution_count": 17,
   "id": "27fbaca3-b04e-4746-ba49-3ae85b23b8a6",
   "metadata": {
    "id": "27fbaca3-b04e-4746-ba49-3ae85b23b8a6"
   },
   "outputs": [],
   "source": [
    "def build_sparse_tdm(all_docs):\n",
    "    master_list = []\n",
    "    min_word_freq = 2\n",
    "    all_word_counts = defaultdict(int)\n",
    "    for doc in all_docs:\n",
    "        # iterate over all words in document\n",
    "        for word in doc:\n",
    "            all_word_counts[word] += 1\n",
    "    # don't consider words with count less that min_word_freq\n",
    "    for word in all_word_counts.keys():\n",
    "        if not all_word_counts[word] < min_word_freq:\n",
    "            master_list.append(word)\n",
    "    tdm_mat = np.zeros((len(all_docs), len(master_list)))\n",
    "    # print(f\"master list {master_list}\")\n",
    "    # again iterate over all words but this time create the matrix with column \n",
    "    # number indiicating the index of the word in the master_list and row indicating\n",
    "    # each document. Maintain a count of each word in each document.\n",
    "    for row in range(len(all_docs)):\n",
    "        for word in all_docs[row]:\n",
    "            # print(f\"Considering word {word}\")\n",
    "            if word in master_list:\n",
    "                col = master_list.index(word)\n",
    "                tdm_mat[row][col] += 1\n",
    "    tdm_mat_sparse = sparse.csr_matrix(tdm_mat)\n",
    "    return tdm_mat_sparse, master_list"
   ]
  },
  {
   "cell_type": "code",
   "execution_count": 18,
   "id": "95d98aa0-d319-470a-b944-b060cbb04bc4",
   "metadata": {
    "colab": {
     "base_uri": "https://localhost:8080/"
    },
    "id": "95d98aa0-d319-470a-b944-b060cbb04bc4",
    "outputId": "ca24cda0-e783-45c5-94ef-0999211088fe"
   },
   "outputs": [
    {
     "name": "stdout",
     "output_type": "stream",
     "text": [
      "(<2x3 sparse matrix of type '<class 'numpy.float64'>'\n",
      "\twith 6 stored elements in Compressed Sparse Row format>, ['this', 'is', 'cat'])\n"
     ]
    }
   ],
   "source": [
    "# test the method\n",
    "test_tokens = [['this', 'is', 'a', 'cat'], ['this', 'cat', 'is', 'brown']]\n",
    "print(build_sparse_tdm(test_tokens))"
   ]
  },
  {
   "cell_type": "code",
   "execution_count": 19,
   "id": "53198008-c2c9-4b7d-81ae-f18c305e1e53",
   "metadata": {
    "colab": {
     "base_uri": "https://localhost:8080/"
    },
    "id": "53198008-c2c9-4b7d-81ae-f18c305e1e53",
    "outputId": "11b51e88-3bd0-496b-902a-d39afd9fee72"
   },
   "outputs": [
    {
     "data": {
      "text/plain": [
       "scipy.sparse._csr.csr_matrix"
      ]
     },
     "execution_count": 19,
     "metadata": {},
     "output_type": "execute_result"
    }
   ],
   "source": [
    "# create the sparse TDM for our tokenized training data \n",
    "sparse_tdm, master_list = build_sparse_tdm(tokenized_docs)\n",
    "type(sparse_tdm)"
   ]
  },
  {
   "cell_type": "markdown",
   "id": "65c5a67a-3deb-4b2c-b699-9210b6d7132f",
   "metadata": {
    "id": "65c5a67a-3deb-4b2c-b699-9210b6d7132f"
   },
   "source": [
    "# Trying out Logistic Regression"
   ]
  },
  {
   "cell_type": "markdown",
   "id": "Cy6EzmltrO99",
   "metadata": {
    "id": "Cy6EzmltrO99"
   },
   "source": [
    "#### Implementing the sigmoid function\n",
    "$$S(X) = \\frac{1}{1+exp(-X)}$$"
   ]
  },
  {
   "cell_type": "code",
   "execution_count": 20,
   "id": "98426caf-1b3c-41b2-a9cf-1d36f015a111",
   "metadata": {
    "id": "98426caf-1b3c-41b2-a9cf-1d36f015a111"
   },
   "outputs": [],
   "source": [
    "def sigmoid(X):\n",
    "    # print(f\"Calculating sigmoid for\\n {X}\")\n",
    "    result = 1 / (1 + np.exp(-X))\n",
    "    return result"
   ]
  },
  {
   "cell_type": "code",
   "execution_count": 21,
   "id": "ba7753d2-b154-4f71-8220-b084aa38fd27",
   "metadata": {
    "colab": {
     "base_uri": "https://localhost:8080/"
    },
    "id": "ba7753d2-b154-4f71-8220-b084aa38fd27",
    "outputId": "4e29f2ba-c644-4c24-dbea-0c65280df47a"
   },
   "outputs": [
    {
     "data": {
      "text/plain": [
       "array([0.73105858, 0.88079708, 0.95257413])"
      ]
     },
     "execution_count": 21,
     "metadata": {},
     "output_type": "execute_result"
    }
   ],
   "source": [
    "# test the method\n",
    "sigmoid(np.array([1, 2, 3]))"
   ]
  },
  {
   "cell_type": "markdown",
   "id": "C1RkASCPrlOI",
   "metadata": {
    "id": "C1RkASCPrlOI"
   },
   "source": [
    "#### Implementing log likelihood\n",
    "$$ll(\\beta) = \\sum_{i}^{n}y_ilog(p(x_i)) + (1-y_i)log(1-p(x_i))$$\n",
    "\n",
    "Here,\n",
    "$$p(x_i) = sigmoid(\\beta^T.x_i)$$"
   ]
  },
  {
   "cell_type": "code",
   "execution_count": 22,
   "id": "3f015a24-d3f9-42e6-8f51-35b1d208496e",
   "metadata": {
    "id": "3f015a24-d3f9-42e6-8f51-35b1d208496e"
   },
   "outputs": [],
   "source": [
    "def log_likelihood(y, X, beta):\n",
    "    log_likelihood_sum = 0\n",
    "    for i in range(X.shape[0]):\n",
    "        x_i = X[i].toarray().reshape(-1, 1)\n",
    "        beta_transpose = np.transpose(beta)\n",
    "        # print(f\"shape of X[i]: {x_i.shape} and shape of beta: {beta_transpose.shape}\")\n",
    "        dot_prod = np.dot(beta_transpose, x_i)\n",
    "        p_x_i = sigmoid(dot_prod)\n",
    "        # print(f\"p_x_i: {p_x_i}\")\n",
    "        term_1 = (y[i] * np.log(p_x_i))\n",
    "        term_2 = (1 - y[i]) * np.log(1 - p_x_i)\n",
    "        full_term = term_1 + term_2\n",
    "        log_likelihood_sum += full_term\n",
    "    return log_likelihood_sum"
   ]
  },
  {
   "cell_type": "markdown",
   "id": "vF_TtBDHsjVR",
   "metadata": {
    "id": "vF_TtBDHsjVR"
   },
   "source": [
    "#### Update Beta value by computing gradient\n",
    "\n",
    "$$\\beta_{new} = \\beta_{old} - \\alpha\\frac{\\delta}{\\delta \\beta}ll(\\beta)$$\n",
    "\n",
    "where,\n",
    "\n",
    "$$\\frac{\\delta}{\\delta \\beta}ll(\\beta) = (sigmoid(\\beta x_i - y_i))x_i$$"
   ]
  },
  {
   "cell_type": "code",
   "execution_count": 23,
   "id": "b497aca6-7297-4489-b145-96e4cb98d2a4",
   "metadata": {
    "id": "b497aca6-7297-4489-b145-96e4cb98d2a4"
   },
   "outputs": [],
   "source": [
    "def compute_gradient(x_i, y_i, beta, alpha):\n",
    "    #print(\"Compute gradient\")\n",
    "    # print(f\"x_i: {x_i.shape}, y_i: {y_i}, beta: {beta.shape}, alpha: {alpha}\")\n",
    "    t_1 = sigmoid(np.dot(np.transpose(beta), x_i)) - y_i\n",
    "    #print(\"t_1\", t_1)\n",
    "    t_2 = t_1 * x_i\n",
    "    return (np.subtract(beta, (alpha * t_2)))"
   ]
  },
  {
   "cell_type": "markdown",
   "id": "cSyhrUxNuVZc",
   "metadata": {
    "id": "cSyhrUxNuVZc"
   },
   "source": [
    "#### Adding intercept column\n",
    "\n",
    "Adding a last column of all 1s to the sparse matrix"
   ]
  },
  {
   "cell_type": "code",
   "execution_count": 24,
   "id": "c239fcea-fc0a-4bd4-9655-4ef7c1fcc51b",
   "metadata": {
    "id": "c239fcea-fc0a-4bd4-9655-4ef7c1fcc51b"
   },
   "outputs": [],
   "source": [
    "def add_intercept_col(X):\n",
    "    return sparse.hstack((X, np.ones((X.shape[0]))[:,None])).tocsr()"
   ]
  },
  {
   "cell_type": "markdown",
   "id": "u37L6iWbujdP",
   "metadata": {
    "id": "u37L6iWbujdP"
   },
   "source": [
    "#### Combining all the above methods within the `logistic_regression()` method"
   ]
  },
  {
   "cell_type": "code",
   "execution_count": 25,
   "id": "b0d6afc1-da7d-4324-a14b-ae3b88f218d7",
   "metadata": {
    "id": "b0d6afc1-da7d-4324-a14b-ae3b88f218d7"
   },
   "outputs": [],
   "source": [
    "def logistic_regression(X, y, learning_rate, num_step):\n",
    "    epoch = EPOCH_VAL\n",
    "    max_rows = X.shape[0]\n",
    "    log_val = []\n",
    "    # add intercept column\n",
    "    X = add_intercept_col(X)\n",
    "    beta = np.zeros(X.shape[1]).reshape(-1, 1)\n",
    "    # print(beta)\n",
    "    for ep in range(epoch):\n",
    "        print(f\"Epoch: {ep}\")\n",
    "        for step in range(num_step):\n",
    "            # print(\"Step: \", i)\n",
    "            # pick a random i\n",
    "            i = np.random.randint(max_rows)\n",
    "            x_i = X[i].toarray().reshape(-1, 1)\n",
    "            beta = compute_gradient(x_i, y[i], beta, learning_rate)\n",
    "            # print(f\"Beta after computing gradient is: \\n {beta}\")\n",
    "            # print(beta)\n",
    "            if step % 50 == 0:\n",
    "                log_l_val = log_likelihood(y, X, beta)\n",
    "                # print(\"Appending to log_val\")\n",
    "                log_val.append(log_l_val)\n",
    "    return beta, log_val"
   ]
  },
  {
   "cell_type": "markdown",
   "id": "f6e8z4SZuve8",
   "metadata": {
    "id": "f6e8z4SZuve8"
   },
   "source": [
    "#### Implementing the `predict()` method"
   ]
  },
  {
   "cell_type": "markdown",
   "id": "qHLwRraxvUhd",
   "metadata": {
    "id": "qHLwRraxvUhd"
   },
   "source": [
    "Here we make use of the logistic regression equation:\n",
    "\n",
    "$$P(y=1|x, \\beta) = \\frac{1}{1 + exp(-\\sum_{i=1}^{N}x_i\\beta_i)}$$"
   ]
  },
  {
   "cell_type": "code",
   "execution_count": 26,
   "id": "d0c62bed-94bf-4a30-a92f-761e93f444b5",
   "metadata": {
    "id": "d0c62bed-94bf-4a30-a92f-761e93f444b5"
   },
   "outputs": [],
   "source": [
    "def predict(text, beta):\n",
    "    tokenized = better_tokenize(text)\n",
    "    # using the text create a vector with same shape as that of a \n",
    "    # single row within the sparse matrix\n",
    "    # initially let the vector be all 0s\n",
    "    x = np.zeros(sparse_tdm.shape[1])\n",
    "    # for each word in our tokenized text\n",
    "    for word in tokenized:\n",
    "        # fetch index of that word if it exists\n",
    "        if word in master_list:\n",
    "            arr_index = master_list.index(word)\n",
    "            # increment count of that array index\n",
    "            x[arr_index] += 1\n",
    "    # now predict using the vector we just created\n",
    "    all_sum = 0\n",
    "    x = x.reshape(-1, 1)\n",
    "    # print(f\"x: {x.shape}, beta: {beta.shape}\")\n",
    "    # calculate P using the logistic regression equation\n",
    "    for i in range(len(x)):\n",
    "        all_sum += (x[i] * beta[i])\n",
    "    y_pred = sigmoid(all_sum)\n",
    "    return y_pred[0]    "
   ]
  },
  {
   "cell_type": "markdown",
   "id": "kGswicn6vuff",
   "metadata": {
    "id": "kGswicn6vuff"
   },
   "source": [
    "#### Training the logistic regression model"
   ]
  },
  {
   "cell_type": "code",
   "execution_count": 28,
   "id": "c4592d46-8e5b-48de-b6ab-08c86cfb2cde",
   "metadata": {
    "colab": {
     "base_uri": "https://localhost:8080/",
     "height": 451
    },
    "id": "c4592d46-8e5b-48de-b6ab-08c86cfb2cde",
    "outputId": "4029f362-f260-40a6-8b1f-3e3b0218509b"
   },
   "outputs": [
    {
     "name": "stdout",
     "output_type": "stream",
     "text": [
      "Epoch: 0\n"
     ]
    },
    {
     "name": "stderr",
     "output_type": "stream",
     "text": [
      "/var/folders/gg/c_1qbqks74vfktzlk54zz3240000gn/T/ipykernel_11429/2635681046.py:11: RuntimeWarning: divide by zero encountered in log\n",
      "  term_2 = (1 - y[i]) * np.log(1 - p_x_i)\n",
      "/var/folders/gg/c_1qbqks74vfktzlk54zz3240000gn/T/ipykernel_11429/2635681046.py:11: RuntimeWarning: invalid value encountered in multiply\n",
      "  term_2 = (1 - y[i]) * np.log(1 - p_x_i)\n"
     ]
    },
    {
     "name": "stdout",
     "output_type": "stream",
     "text": [
      "Epoch: 1\n",
      "Epoch: 2\n",
      "Epoch: 3\n",
      "Epoch: 4\n",
      "Epoch: 5\n",
      "Epoch: 6\n",
      "Epoch: 7\n",
      "Epoch: 8\n",
      "Epoch: 9\n",
      "Epoch: 10\n",
      "Epoch: 11\n",
      "Epoch: 12\n",
      "Epoch: 13\n",
      "Epoch: 14\n",
      "Epoch: 15\n",
      "Epoch: 16\n",
      "Epoch: 17\n",
      "Epoch: 18\n",
      "Epoch: 19\n"
     ]
    }
   ],
   "source": [
    "X = sparse_tdm\n",
    "y = train_data['label'].values\n",
    "l_rate = 0.001\n",
    "num_step = 3100\n",
    "EPOCH_VAL = 20\n",
    "beta, log_l_val = logistic_regression(X, y, l_rate, num_step)\n",
    "# print(log_l_val)"
   ]
  },
  {
   "cell_type": "code",
   "execution_count": 29,
   "id": "d34ec906-ee8d-43d8-b87a-37c070b077f8",
   "metadata": {
    "id": "d34ec906-ee8d-43d8-b87a-37c070b077f8",
    "outputId": "cb168df6-7378-46ab-aeb7-86b0e329f5fd"
   },
   "outputs": [
    {
     "data": {
      "text/plain": [
       "[Text(0.5, 1.0, 'Log-likelihood every 50 steps')]"
      ]
     },
     "execution_count": 29,
     "metadata": {},
     "output_type": "execute_result"
    },
    {
     "data": {
      "image/png": "[encoded data removed]",
      "text/plain": [
       "<Figure size 1170x827 with 1 Axes>"
      ]
     },
     "metadata": {},
     "output_type": "display_data"
    }
   ],
   "source": [
    "log_vals = []\n",
    "steps = []\n",
    "i = 0\n",
    "for l in log_l_val:\n",
    "    log_vals.append(l[0][0])\n",
    "    steps.append(i)\n",
    "    i += 50\n",
    "# plt.plot(steps, log_vals)\n",
    "sns.lineplot(data=log_vals).set(title=\"Log-likelihood every 50 steps\")"
   ]
  },
  {
   "cell_type": "code",
   "execution_count": 39,
   "id": "84c08f92-8452-4f77-b8a6-05834260bb2e",
   "metadata": {
    "id": "84c08f92-8452-4f77-b8a6-05834260bb2e"
   },
   "outputs": [],
   "source": [
    "# read in the test set\n",
    "X_test = test_data['text'].values\n",
    "y_test = test_data['label'].values.tolist()"
   ]
  },
  {
   "cell_type": "code",
   "execution_count": 43,
   "id": "1a40fa9a-6f50-4079-b9c4-b09c6f3bc381",
   "metadata": {
    "id": "1a40fa9a-6f50-4079-b9c4-b09c6f3bc381",
    "outputId": "6a536ee1-d5ae-4f76-8987-ea27404affc7"
   },
   "outputs": [
    {
     "name": "stdout",
     "output_type": "stream",
     "text": [
      "0.268\n"
     ]
    }
   ],
   "source": [
    "y_pred = []\n",
    "for x in X_test:\n",
    "    y_pred.append(predict(x, beta).round())\n",
    "print(accuracy_score(y_test, y_pred))"
   ]
  },
  {
   "cell_type": "markdown",
   "id": "f3d7614d-48e9-42af-8530-8b56a70c7be6",
   "metadata": {
    "id": "f3d7614d-48e9-42af-8530-8b56a70c7be6"
   },
   "source": [
    "# Logistic Regression with PyTorch"
   ]
  },
  {
   "cell_type": "code",
   "execution_count": 14,
   "id": "ZDwodvbBaE3n",
   "metadata": {
    "id": "ZDwodvbBaE3n"
   },
   "outputs": [],
   "source": [
    "def to_sparse_tensor_old(sparse_mat_ip):\n",
    "    print(f\"Input shape: {sparse_mat_ip.shape}\")\n",
    "    sparse_coo = sparse_mat_ip.tocoo()\n",
    "    print(f\"Post shape: {sparse_coo.shape}\")\n",
    "    print(f\"Row: {len(sparse_coo.row.tolist())}, Col: {len(sparse_coo.col.tolist())}, data: {len(sparse_coo.data)}\")\n",
    "    sparse_tensor = torch.sparse.LongTensor(torch.LongTensor([sparse_coo.row.tolist(), sparse_coo.col.tolist()]),\n",
    "                              torch.LongTensor(sparse_coo.data))\n",
    "    print(f\"Post post shape: {sparse_tensor.shape}\")\n",
    "    return sparse_tensor"
   ]
  },
  {
   "cell_type": "code",
   "execution_count": 44,
   "id": "0XdABNIX6We-",
   "metadata": {
    "id": "0XdABNIX6We-"
   },
   "outputs": [],
   "source": [
    "def to_sparse_tensor(sparse_mat_ip):\n",
    "    print(f\"Input shape: {sparse_mat_ip.shape}\")\n",
    "    sparse_coo = sparse_mat_ip.tocoo()\n",
    "    print(f\"Post shape: {sparse_coo.shape}\")\n",
    "    print(f\"Row: {len(sparse_coo.row.tolist())}, Col: {len(sparse_coo.col.tolist())}, data: {len(sparse_coo.data)}\")\n",
    "    values = sparse_coo.data\n",
    "    indices = np.vstack((sparse_coo.row, sparse_coo.col))\n",
    "\n",
    "    i = torch.LongTensor(indices)\n",
    "    v = torch.FloatTensor(values)\n",
    "    shape = sparse_coo.shape\n",
    "\n",
    "    sparse_tensor = torch.sparse.FloatTensor(i, v, torch.Size(shape)).to_dense()\n",
    "    print(f\"Post post shape: {sparse_tensor.shape}\")\n",
    "    return sparse_tensor"
   ]
  },
  {
   "cell_type": "code",
   "execution_count": 52,
   "id": "QDrKUP5euQT1",
   "metadata": {
    "id": "QDrKUP5euQT1"
   },
   "outputs": [],
   "source": [
    "def rebuild_sparse_tdm(all_docs, word_index):\n",
    "    for doc in tqdm(all_docs):\n",
    "        # print(doc)\n",
    "        tdm_mat = np.zeros((len(all_docs), len(word_index)))\n",
    "        # print(f\"master list {master_list}\")\n",
    "        # again iterate over all words but this time create the matrix\n",
    "        for row in range(len(all_docs)):\n",
    "            for word in all_docs[row]:\n",
    "                # print(f\"Considering word {word}\")\n",
    "                if word in word_index:\n",
    "                    col = word_index.index(word)\n",
    "                    tdm_mat[row][col] += 1\n",
    "    tdm_mat_sparse = sparse.csr_matrix(tdm_mat)\n",
    "    return tdm_mat_sparse"
   ]
  },
  {
   "cell_type": "code",
   "execution_count": 48,
   "id": "2d132ce3-6a0a-4d62-adb5-826734587dea",
   "metadata": {
    "colab": {
     "base_uri": "https://localhost:8080/"
    },
    "id": "2d132ce3-6a0a-4d62-adb5-826734587dea",
    "outputId": "25eeb0e5-e756-4ed2-c51b-945e50d8ead6"
   },
   "outputs": [
    {
     "name": "stdout",
     "output_type": "stream",
     "text": [
      "Input shape: (1000, 3974)\n",
      "Post shape: (1000, 3974)\n",
      "Row: 31300, Col: 31300, data: 31300\n",
      "Post post shape: torch.Size([1000, 3974])\n"
     ]
    }
   ],
   "source": [
    "sparse_tdm_tensor = to_sparse_tensor(sparse_tdm)\n",
    "y_train_tensor = torch.tensor(train_data['label'].values)"
   ]
  },
  {
   "cell_type": "code",
   "execution_count": 53,
   "id": "jereNdigx5J1",
   "metadata": {
    "id": "jereNdigx5J1"
   },
   "outputs": [
    {
     "name": "stderr",
     "output_type": "stream",
     "text": [
      "100%|██████████████████████████████████████████████████████████████████████████████████████████████████████| 1000/1000 [00:00<00:00, 66961.01it/s]\n",
      "100%|█████████████████████████████████████████████████████████████████████████████████████████████████████████| 1000/1000 [11:13<00:00,  1.48it/s]\n"
     ]
    }
   ],
   "source": [
    "# tokenize_test\n",
    "X_test_tokenized = []\n",
    "for word in tqdm(X_test):\n",
    "    X_test_tokenized.append(better_tokenize(word))\n",
    "X_test_tdm = rebuild_sparse_tdm(X_test_tokenized, master_list)"
   ]
  },
  {
   "cell_type": "code",
   "execution_count": 55,
   "id": "Jwoy4niD4Pxj",
   "metadata": {
    "colab": {
     "base_uri": "https://localhost:8080/"
    },
    "id": "Jwoy4niD4Pxj",
    "outputId": "0c6c0ad0-b2d9-43a0-e850-2c2c0346968d"
   },
   "outputs": [
    {
     "name": "stdout",
     "output_type": "stream",
     "text": [
      "Input shape: (1000, 3974)\n",
      "Post shape: (1000, 3974)\n",
      "Row: 26955, Col: 26955, data: 26955\n",
      "Post post shape: torch.Size([1000, 3974])\n"
     ]
    }
   ],
   "source": [
    "X_test_sparse_tensor = to_sparse_tensor(X_test_tdm)\n",
    "y_test_tensor = torch.tensor(test_data['label'].values)"
   ]
  },
  {
   "cell_type": "code",
   "execution_count": 56,
   "id": "MnZi35MjbjFH",
   "metadata": {
    "id": "MnZi35MjbjFH"
   },
   "outputs": [],
   "source": [
    "class LogisticRegression(nn.Module):\n",
    "  \n",
    "    def __init__(self, input_dim):\n",
    "        super().__init__()\n",
    "        output_dim = 1\n",
    "        self.linear = nn.Linear(input_dim, output_dim)\n",
    "\n",
    "    def forward(self, x):\n",
    "        x = torch.sigmoid(self.linear(x))\n",
    "        return x"
   ]
  },
  {
   "cell_type": "code",
   "execution_count": 57,
   "id": "7n55Cq0-htHC",
   "metadata": {
    "colab": {
     "base_uri": "https://localhost:8080/"
    },
    "id": "7n55Cq0-htHC",
    "outputId": "6f2a4762-fe9b-4fed-b234-9985a76ec1f8"
   },
   "outputs": [
    {
     "data": {
      "text/plain": [
       "tensor([0., 0., 1.,  ..., 0., 0., 0.])"
      ]
     },
     "execution_count": 57,
     "metadata": {},
     "output_type": "execute_result"
    }
   ],
   "source": [
    "sparse_tdm_tensor[1].float()"
   ]
  },
  {
   "cell_type": "code",
   "execution_count": 58,
   "id": "SvlfOI9l_4vR",
   "metadata": {
    "id": "SvlfOI9l_4vR"
   },
   "outputs": [],
   "source": [
    "model = LogisticRegression(list(sparse_tdm_tensor[0].shape)[0])"
   ]
  },
  {
   "cell_type": "code",
   "execution_count": null,
   "id": "8E7I-aNqn_u6",
   "metadata": {
    "id": "8E7I-aNqn_u6"
   },
   "outputs": [],
   "source": [
    "from numpy.random.mtrand import noncentral_f\n",
    "def train_py_torch_model(X_train_sparse_tensor, y_train_tensor, X_dev_sparse_tensor, y_dev_tensor, pytorch_epochs, pytorch_steps, pytorch_lr, need_to_eval, evaluate_on_n_step, set_wt_decay=False, wt_decay=None, set_optim=False, optim_val=None):\n",
    "    loss_func = torch.nn.BCELoss()\n",
    "    optimizer = torch.optim.SGD(model.parameters(), lr=pytorch_lr)\n",
    "    if set_wt_decay:\n",
    "    print(\"Setting weight_decay to optimizer\")\n",
    "    optimizer = torch.optim.SGD(model.parameters(), lr=pytorch_lr, weight_decay=wt_decay)\n",
    "    if set_optim:\n",
    "    if optim_val == \"RMSProp\":\n",
    "        print(\"Setting optim to RMSProp\")\n",
    "        optimizer = torch.optim.RMSprop(model.parameters(), lr=pytorch_lr)\n",
    "    elif optim_val == \"AdamW\":\n",
    "        print(\"Setting optim to AdamW\")\n",
    "      optimizer = torch.optim.AdamW(model.parameters(), lr=pytorch_lr)\n",
    "    else:\n",
    "      optimizer = None\n",
    "    loss_every_step = []\n",
    "    all_dev_loss = []\n",
    "    all_f1_scores = []\n",
    "    for epoch_num in range(pytorch_epochs):\n",
    "    # print(f\"Epoch: {epoch_num}\")\n",
    "    # start executing steps\n",
    "    running_loss = 0.0\n",
    "    for step_num in range(pytorch_steps):\n",
    "      # parameter gradients set to 0\n",
    "      optimizer.zero_grad()\n",
    "      # pick random data point\n",
    "      rand_index = np.random.randint(list(X_train_sparse_tensor.shape)[0])\n",
    "      rand_data_point = X_train_sparse_tensor[rand_index]\n",
    "      # print(rand_index)\n",
    "      # pass data to our network\n",
    "      output = model(rand_data_point.float())\n",
    "      loss = loss_func(output.squeeze(-1), y[rand_index].float())\n",
    "      loss.backward()\n",
    "      optimizer.step()\n",
    "      # print(f\"Loss: {loss.item()}\")\n",
    "      loss_every_step.append(loss.item())\n",
    "      if need_to_eval:\n",
    "        if step_num % evaluate_on_n_step == 0:\n",
    "          # evaluate on validation set\n",
    "          # switch to evaluation step\n",
    "          model.eval()\n",
    "          with torch.no_grad():\n",
    "            # fetch outputs\n",
    "            all_outputs = model(X_dev_sparse_tensor.float())\n",
    "            dev_loss = loss_func(all_outputs.squeeze(-1), y_dev_tensor.float())\n",
    "            metric = BinaryF1Score()\n",
    "            # print(all_outputs.squeeze(-1))\n",
    "            # print(y_dev_tensor.float())\n",
    "            f1_score = metric(all_outputs.squeeze(-1), y_dev_tensor.float())\n",
    "            all_f1_scores.append(f1_score.item())\n",
    "            all_dev_loss.append(dev_loss.item())\n",
    "          # switch back to training mode\n",
    "          model.train()\n",
    "      # log every 50 steps\n",
    "      # running_loss += loss.item()\n",
    "      # if step_num % 50 == 0:\n",
    "      #   print(f\"Loss: {running_loss/50}\")\n",
    "      #   running_loss = 0.0\n",
    "    print(\"Done\")\n",
    "    return loss_every_step, all_dev_loss, all_f1_scores"
   ]
  },
  {
   "cell_type": "code",
   "execution_count": 64,
   "id": "a4d840d0-c441-4e4f-abb1-7966d9f81a4d",
   "metadata": {},
   "outputs": [],
   "source": [
    "from numpy.random.mtrand import noncentral_f\n",
    "def train_py_torch_model(X_train_sparse_tensor, y_train_tensor, X_dev_sparse_tensor, y_dev_tensor, pytorch_epochs, pytorch_steps, pytorch_lr, need_to_eval, evaluate_on_n_step, set_wt_decay=False, wt_decay=None, set_optim=False, optim_val=None):\n",
    "    loss_func = torch.nn.BCELoss()\n",
    "    optimizer = torch.optim.SGD(model.parameters(), lr=pytorch_lr)\n",
    "    if set_wt_decay:\n",
    "        print(\"Setting weight_decay to optimizer\")\n",
    "        optimizer = torch.optim.SGD(model.parameters(), lr=pytorch_lr, weight_decay=wt_decay)\n",
    "        if set_optim:\n",
    "            if optim_val == \"RMSProp\":\n",
    "                print(\"Setting optim to RMSProp\")\n",
    "                optimizer = torch.optim.RMSprop(model.parameters(), lr=pytorch_lr)\n",
    "            elif optim_val == \"AdamW\":\n",
    "                print(\"Setting optim to AdamW\")\n",
    "                optimizer = torch.optim.AdamW(model.parameters(), lr=pytorch_lr)\n",
    "            else:\n",
    "                optimizer = None\n",
    "    loss_every_step = []\n",
    "    all_dev_loss = []\n",
    "    all_f1_scores = []\n",
    "    for epoch_num in range(pytorch_epochs):\n",
    "        # print(f\"Epoch: {epoch_num}\")\n",
    "        # start executing steps\n",
    "        running_loss = 0.0\n",
    "        for step_num in range(pytorch_steps):\n",
    "            # parameter gradients set to 0\n",
    "            optimizer.zero_grad()\n",
    "            # pick random data point\n",
    "            rand_index = np.random.randint(list(X_train_sparse_tensor.shape)[0])\n",
    "            rand_data_point = X_train_sparse_tensor[rand_index]\n",
    "            # print(rand_index)\n",
    "            # pass data to our network\n",
    "            output = model(rand_data_point.float())\n",
    "            loss = loss_func(output.squeeze(-1), y[rand_index].float())\n",
    "            loss.backward()\n",
    "            optimizer.step()\n",
    "            # print(f\"Loss: {loss.item()}\")\n",
    "            loss_every_step.append(loss.item())\n",
    "            if need_to_eval:\n",
    "                if step_num % evaluate_on_n_step == 0:\n",
    "                    # evaluate on validation set\n",
    "                    # switch to evaluation step\n",
    "                    model.eval()\n",
    "                    with torch.no_grad():\n",
    "                        # fetch outputs\n",
    "                        all_outputs = model(X_dev_sparse_tensor.float())\n",
    "                        dev_loss = loss_func(all_outputs.squeeze(-1), y_dev_tensor.float())\n",
    "                        metric = BinaryF1Score()\n",
    "                        # print(all_outputs.squeeze(-1))\n",
    "                        # print(y_dev_tensor.float())\n",
    "                        f1_score = metric(all_outputs.squeeze(-1), y_dev_tensor.float())\n",
    "                        all_f1_scores.append(f1_score.item())\n",
    "                        all_dev_loss.append(dev_loss.item())\n",
    "                    # switch back to training mode\n",
    "                    model.train()\n",
    "        # log every 50 steps\n",
    "        # running_loss += loss.item()\n",
    "        # if step_num % 50 == 0:\n",
    "        #   print(f\"Loss: {running_loss/50}\")\n",
    "        #   running_loss = 0.0\n",
    "    print(\"Done\")\n",
    "    return loss_every_step, all_dev_loss, all_f1_scores"
   ]
  },
  {
   "cell_type": "code",
   "execution_count": null,
   "id": "QwPrOBPFV-bH",
   "metadata": {
    "colab": {
     "base_uri": "https://localhost:8080/"
    },
    "id": "QwPrOBPFV-bH",
    "outputId": "8e27bc9d-5b76-4f7a-e629-6fbc59c841de"
   },
   "outputs": [],
   "source": [
    "# epoch 500, steps 3000 and learning rate 0.05\n",
    "loss_vals, all_dev_loss, all_f1 = train_py_torch_model(sparse_tdm_tensor, y_train_tensor, X_test_sparse_tensor, y_test_tensor, pytorch_epochs=25, pytorch_steps=3100, pytorch_lr=0.08, need_to_eval=True, evaluate_on_n_step=50)"
   ]
  },
  {
   "cell_type": "code",
   "execution_count": null,
   "id": "GIZjEvnJ8oHa",
   "metadata": {
    "colab": {
     "base_uri": "https://localhost:8080/"
    },
    "id": "GIZjEvnJ8oHa",
    "outputId": "5ffb4dba-9faa-4b8a-de2d-047d89645719"
   },
   "outputs": [
    {
     "data": {
      "text/plain": [
       "[0.2452917844057083,\n",
       " 0.459329754114151,\n",
       " 0.24162933230400085,\n",
       " 0.14026132225990295,\n",
       " 1.195487380027771,\n",
       " 1.4742517471313477,\n",
       " 0.33271950483322144,\n",
       " 0.350024551153183,\n",
       " 0.3946042060852051,\n",
       " 0.3910132050514221,\n",
       " 2.3404488563537598,\n",
       " 1.193013310432434,\n",
       " 0.2209450602531433,\n",
       " 0.34481409192085266,\n",
       " 0.4204856753349304,\n",
       " 0.41923585534095764,\n",
       " 0.25699272751808167,\n",
       " 0.3628966510295868,\n",
       " 0.3065948784351349,\n",
       " 0.20569239556789398]"
      ]
     },
     "execution_count": 140,
     "metadata": {},
     "output_type": "execute_result"
    }
   ],
   "source": [
    "loss_vals[::50]"
   ]
  },
  {
   "cell_type": "code",
   "execution_count": null,
   "id": "gLNss5sL87LN",
   "metadata": {
    "colab": {
     "base_uri": "https://localhost:8080/"
    },
    "id": "gLNss5sL87LN",
    "outputId": "ec1dee28-f4b8-447c-9520-9e1992634c53"
   },
   "outputs": [
    {
     "data": {
      "text/plain": [
       "[tensor(0.4961), tensor(0.4705), tensor(0.4665), tensor(0.4653)]"
      ]
     },
     "execution_count": 180,
     "metadata": {},
     "output_type": "execute_result"
    }
   ],
   "source": [
    "all_dev_loss[::50]"
   ]
  },
  {
   "cell_type": "code",
   "execution_count": null,
   "id": "gVJfmkRP-jmB",
   "metadata": {
    "colab": {
     "base_uri": "https://localhost:8080/"
    },
    "id": "gVJfmkRP-jmB",
    "outputId": "2c29ea6c-3007-4246-f6e5-c14fc19a7be4"
   },
   "outputs": [
    {
     "data": {
      "text/plain": [
       "0.24060150980949402"
      ]
     },
     "execution_count": 232,
     "metadata": {},
     "output_type": "execute_result"
    }
   ],
   "source": [
    "all_f1[len(all_f1)-1].tolist()"
   ]
  },
  {
   "cell_type": "code",
   "execution_count": null,
   "id": "Gj3iNgdO8NBi",
   "metadata": {
    "colab": {
     "base_uri": "https://localhost:8080/",
     "height": 404
    },
    "id": "Gj3iNgdO8NBi",
    "outputId": "32990c49-5d73-40ae-9e2a-339f9fc77961"
   },
   "outputs": [
    {
     "data": {
      "text/plain": [
       "<seaborn.axisgrid.FacetGrid at 0x7f167b976670>"
      ]
     },
     "execution_count": 240,
     "metadata": {},
     "output_type": "execute_result"
    },
    {
     "data": {
      "image/png": "[encoded data removed]",
      "text/plain": [
       "<Figure size 360x360 with 1 Axes>"
      ]
     },
     "metadata": {
      "needs_background": "light"
     },
     "output_type": "display_data"
    }
   ],
   "source": [
    "sns.relplot(data=loss_vals[::50], kind=\"line\")"
   ]
  },
  {
   "cell_type": "code",
   "execution_count": null,
   "id": "BigESXZ6fZZs",
   "metadata": {
    "id": "BigESXZ6fZZs"
   },
   "outputs": [],
   "source": [
    "# tokenize_dev\n",
    "X_test_tokenized = []\n",
    "for word in X_test:\n",
    "  X_test_tokenized.append(better_tokenize(word))\n",
    "X_test_tdm = rebuild_sparse_tdm(X_test_tokenized, master_list)"
   ]
  },
  {
   "cell_type": "code",
   "execution_count": null,
   "id": "9ylq0_kil_Lx",
   "metadata": {
    "colab": {
     "base_uri": "https://localhost:8080/"
    },
    "id": "9ylq0_kil_Lx",
    "outputId": "bbea5f6b-a87d-4da5-9ec7-c08ed8e81823"
   },
   "outputs": [
    {
     "name": "stdout",
     "output_type": "stream",
     "text": [
      "Input shape: (1400, 4110)\n",
      "Post shape: (1400, 4110)\n",
      "Row: 19246, Col: 19246, data: 19246\n",
      "Post post shape: torch.Size([1400, 4110])\n"
     ]
    }
   ],
   "source": [
    "X_test_sparse_tensor = to_sparse_tensor(X_test_tdm)"
   ]
  },
  {
   "cell_type": "code",
   "execution_count": null,
   "id": "3PJjJVGd2_vm",
   "metadata": {
    "colab": {
     "base_uri": "https://localhost:8080/"
    },
    "id": "3PJjJVGd2_vm",
    "outputId": "98a74998-562a-49af-d906-8fcd5e33c3a9"
   },
   "outputs": [
    {
     "data": {
      "text/plain": [
       "LogisticRegression(\n",
       "  (linear): Linear(in_features=4110, out_features=1, bias=True)\n",
       ")"
      ]
     },
     "execution_count": 233,
     "metadata": {},
     "output_type": "execute_result"
    }
   ],
   "source": [
    "model.eval()\n",
    "with torch.no_grad():\n",
    "  # fetch outputs\n",
    "  y_pred = model(X_test_sparse_tensor.float())\n",
    "model.train()"
   ]
  },
  {
   "cell_type": "code",
   "execution_count": null,
   "id": "WHbhd0YI3uP0",
   "metadata": {
    "id": "WHbhd0YI3uP0"
   },
   "outputs": [],
   "source": [
    "y_pred_pytorch = []\n",
    "for val in y_pred.tolist():\n",
    "  y_pred_pytorch.append(round(val[0]))"
   ]
  },
  {
   "cell_type": "code",
   "execution_count": null,
   "id": "IMRh-bqk4JNH",
   "metadata": {
    "id": "IMRh-bqk4JNH"
   },
   "outputs": [],
   "source": [
    "output_df_pytorch = pd.DataFrame(columns=['index', 'prediction'])\n",
    "output_df_pytorch['index'] = test_df['index'].values\n",
    "output_df_pytorch['prediction'] = y_pred_pytorch\n",
    "output_df_pytorch.to_csv(\"output_pt.csv\", index=False)"
   ]
  },
  {
   "cell_type": "markdown",
   "id": "kBiY7AQ0BgQE",
   "metadata": {
    "id": "kBiY7AQ0BgQE"
   },
   "source": [
    "## Training and Experiments"
   ]
  },
  {
   "cell_type": "code",
   "execution_count": null,
   "id": "UWi6Dor-Bi_k",
   "metadata": {
    "colab": {
     "base_uri": "https://localhost:8080/",
     "height": 347
    },
    "id": "UWi6Dor-Bi_k",
    "outputId": "d7e5597b-d59a-4f10-d246-79f30aa60edc"
   },
   "outputs": [
    {
     "name": "stdout",
     "output_type": "stream",
     "text": [
      "Done\n"
     ]
    },
    {
     "data": {
      "text/plain": [
       "[Text(0.5, 1.0, 'Epoch=1, steps=1000')]"
      ]
     },
     "execution_count": 275,
     "metadata": {},
     "output_type": "execute_result"
    },
    {
     "data": {
      "image/png": "[encoded data removed]",
      "text/plain": [
       "<Figure size 432x288 with 1 Axes>"
      ]
     },
     "metadata": {
      "needs_background": "light"
     },
     "output_type": "display_data"
    }
   ],
   "source": [
    "model = LogisticRegression(list(sparse_tdm_tensor[0].shape)[0])\n",
    "# Train model for 1000 steps and report loss every 50 steps\n",
    "loss_vals, all_dev_loss, all_f1 = train_py_torch_model(sparse_tdm_tensor, y_train_tensor, X_dev_sparse_tensor, y_dev_tensor, pytorch_epochs=1, pytorch_steps=1000, pytorch_lr=0.01, need_to_eval=False, evaluate_on_n_step=50)\n",
    "data = pd.DataFrame(columns = ['steps', 'loss'])\n",
    "data['steps'] = list(range(0, 1000, 50))\n",
    "data['loss'] = loss_vals[::50]\n",
    "\n",
    "sns.lineplot(data=data, x=\"steps\", y=\"loss\").set(title=\"Epoch=1, steps=1000\")"
   ]
  },
  {
   "cell_type": "code",
   "execution_count": null,
   "id": "FC9cNLFbF1Wa",
   "metadata": {
    "colab": {
     "base_uri": "https://localhost:8080/",
     "height": 331
    },
    "id": "FC9cNLFbF1Wa",
    "outputId": "882688e8-5d52-4b8b-9c29-e68f6a4a03ce"
   },
   "outputs": [
    {
     "name": "stdout",
     "output_type": "stream",
     "text": [
      "Done\n",
      "F1 score on the development data: 0.16393442451953888\n"
     ]
    },
    {
     "data": {
      "image/png": "[encoded data removed]",
      "text/plain": [
       "<Figure size 432x288 with 1 Axes>"
      ]
     },
     "metadata": {
      "needs_background": "light"
     },
     "output_type": "display_data"
    }
   ],
   "source": [
    "model = LogisticRegression(list(sparse_tdm_tensor[0].shape)[0])\n",
    "loss_vals, all_dev_loss, all_f1 = train_py_torch_model(sparse_tdm_tensor, y_train_tensor, X_dev_sparse_tensor, y_dev_tensor, pytorch_epochs=30, pytorch_steps=2000, pytorch_lr=0.01, need_to_eval=True, evaluate_on_n_step=2000)\n",
    "data = pd.DataFrame(columns = ['steps', 'loss'])\n",
    "data['steps'] = list(range(0, 30*2000, 1000))\n",
    "data['loss'] = loss_vals[::1000]\n",
    "\n",
    "sns.lineplot(data=data, x=\"steps\", y=\"loss\")\n",
    "print(f\"F1 score on the development data: {all_f1[-1]}\")"
   ]
  },
  {
   "cell_type": "code",
   "execution_count": null,
   "id": "a7OrVuPeXPZu",
   "metadata": {
    "colab": {
     "base_uri": "https://localhost:8080/"
    },
    "id": "a7OrVuPeXPZu",
    "outputId": "46d1c14f-3706-42da-fcd7-4e3652e70b3a"
   },
   "outputs": [
    {
     "name": "stdout",
     "output_type": "stream",
     "text": [
      "Setting weight_decay to optimizer\n",
      "Done\n",
      "Setting weight_decay to optimizer\n",
      "Done\n",
      "Setting weight_decay to optimizer\n",
      "Done\n"
     ]
    }
   ],
   "source": [
    "model = LogisticRegression(list(sparse_tdm_tensor[0].shape)[0])\n",
    "\n",
    "loss_vals_l2_0, all_dev_loss_l2_0, all_f1_l2_0 = train_py_torch_model(sparse_tdm_tensor, y_train_tensor, X_dev_sparse_tensor, y_dev_tensor, pytorch_epochs=1, pytorch_steps=2000, pytorch_lr=0.01, need_to_eval=True, evaluate_on_n_step=50, set_wt_decay=True, wt_decay=0)\n",
    "\n",
    "data_l2_0 = pd.DataFrame(columns = ['steps', 'loss', 'F1', 'L2'])\n",
    "data_l2_0['steps'] = list(range(0, 2000, 50))\n",
    "data_l2_0['loss'] = all_dev_loss_l2_0\n",
    "data_l2_0['F1'] = all_f1_l2_0\n",
    "data_l2_0['L2'] = 0\n",
    "\n",
    "loss_vals_l2_0_001, all_dev_loss_l2_0_001, all_f1_l2_0_001 = train_py_torch_model(sparse_tdm_tensor, y_train_tensor, X_dev_sparse_tensor, y_dev_tensor, pytorch_epochs=1, pytorch_steps=2000, pytorch_lr=0.01, need_to_eval=True, evaluate_on_n_step=50, set_wt_decay=True, wt_decay=0.001)\n",
    "data_l2_0_001 = pd.DataFrame(columns = ['steps', 'loss', 'F1', 'L2'])\n",
    "data_l2_0_001['steps'] = list(range(0, 2000, 50))\n",
    "data_l2_0_001['loss'] = all_dev_loss_l2_0_001\n",
    "data_l2_0_001['F1'] = all_f1_l2_0_001\n",
    "data_l2_0_001['L2'] = 0.001\n",
    "\n",
    "\n",
    "loss_vals_l2_0_1, all_dev_loss_l2_0_1, all_f1_l2_0_1 = train_py_torch_model(sparse_tdm_tensor, y_train_tensor, X_dev_sparse_tensor, y_dev_tensor, pytorch_epochs=1, pytorch_steps=2000, pytorch_lr=0.01, need_to_eval=True, evaluate_on_n_step=50, set_wt_decay=True, wt_decay=0.1)\n",
    "data_l2_0_1 = pd.DataFrame(columns = ['steps', 'loss', 'F1', 'L2'])\n",
    "data_l2_0_1['steps'] = list(range(0, 2000, 50))\n",
    "data_l2_0_1['loss'] = all_dev_loss_l2_0_1\n",
    "data_l2_0_1['F1'] = all_f1_l2_0_1\n",
    "data_l2_0_1['L2'] = 0.1"
   ]
  },
  {
   "cell_type": "code",
   "execution_count": null,
   "id": "7TikakSDbAqW",
   "metadata": {
    "colab": {
     "base_uri": "https://localhost:8080/",
     "height": 314
    },
    "id": "7TikakSDbAqW",
    "outputId": "dbf770cb-f7e1-4609-86eb-e2dcee0f063f"
   },
   "outputs": [
    {
     "data": {
      "text/plain": [
       "<matplotlib.axes._subplots.AxesSubplot at 0x7f167a5450a0>"
      ]
     },
     "execution_count": 303,
     "metadata": {},
     "output_type": "execute_result"
    },
    {
     "data": {
      "image/png": "[encoded data removed]",
      "text/plain": [
       "<Figure size 432x288 with 1 Axes>"
      ]
     },
     "metadata": {
      "needs_background": "light"
     },
     "output_type": "display_data"
    }
   ],
   "source": [
    "all_l2_data = pd.concat([data_l2_0, data_l2_0_001, data_l2_0_1], ignore_index=True)\n",
    "sns.lineplot(data=all_l2_data, y='loss', x='steps', hue='L2', palette='bright')"
   ]
  },
  {
   "cell_type": "code",
   "execution_count": null,
   "id": "nLb6H4BKgo6R",
   "metadata": {
    "colab": {
     "base_uri": "https://localhost:8080/",
     "height": 314
    },
    "id": "nLb6H4BKgo6R",
    "outputId": "cf5db368-d38e-4ec9-8e26-ebcceba714b2"
   },
   "outputs": [
    {
     "data": {
      "text/plain": [
       "<matplotlib.axes._subplots.AxesSubplot at 0x7f167ab16d90>"
      ]
     },
     "execution_count": 304,
     "metadata": {},
     "output_type": "execute_result"
    },
    {
     "data": {
      "image/png": "[encoded data removed]",
      "text/plain": [
       "<Figure size 432x288 with 1 Axes>"
      ]
     },
     "metadata": {
      "needs_background": "light"
     },
     "output_type": "display_data"
    }
   ],
   "source": [
    "sns.lineplot(data=all_l2_data, y='F1', x='steps', hue='L2', palette='bright')"
   ]
  },
  {
   "cell_type": "code",
   "execution_count": null,
   "id": "EEEYQ2RyiCAV",
   "metadata": {
    "colab": {
     "base_uri": "https://localhost:8080/"
    },
    "id": "EEEYQ2RyiCAV",
    "outputId": "14868c11-1463-40d1-e914-25f1bb7393a4"
   },
   "outputs": [
    {
     "name": "stdout",
     "output_type": "stream",
     "text": [
      "Setting optim to RMSProp\n",
      "Done\n",
      "Setting optim to AdamW\n",
      "Done\n"
     ]
    }
   ],
   "source": [
    "\n",
    "model = LogisticRegression(list(sparse_tdm_tensor[0].shape)[0])\n",
    "\n",
    "loss_vals_rms, all_dev_loss_rms, all_f1_rms = train_py_torch_model(sparse_tdm_tensor, y_train_tensor, X_dev_sparse_tensor, y_dev_tensor, pytorch_epochs=1, pytorch_steps=2000, pytorch_lr=0.01, need_to_eval=True, evaluate_on_n_step=50, set_optim=True, optim_val=\"RMSProp\")\n",
    "data_rms = pd.DataFrame(columns = ['steps', 'loss', 'F1', 'optim'])\n",
    "data_rms['steps'] = list(range(0, 2000, 50))\n",
    "data_rms['loss'] = all_dev_loss_rms\n",
    "data_rms['F1'] = all_f1_rms\n",
    "data_rms['optim'] = 'RMSProp'\n",
    "\n",
    "loss_vals_adamw, all_dev_loss_adamw, all_f1_adamw = train_py_torch_model(sparse_tdm_tensor, y_train_tensor, X_dev_sparse_tensor, y_dev_tensor, pytorch_epochs=1, pytorch_steps=2000, pytorch_lr=0.01, need_to_eval=True, evaluate_on_n_step=50, set_optim=True, optim_val=\"AdamW\")\n",
    "data_adamw = pd.DataFrame(columns = ['steps', 'loss', 'F1', 'optim'])\n",
    "data_adamw['steps'] = list(range(0, 2000, 50))\n",
    "data_adamw['loss'] = all_dev_loss_adamw\n",
    "data_adamw['F1'] = all_f1_adamw\n",
    "data_adamw['optim'] = 'AdamW'"
   ]
  },
  {
   "cell_type": "code",
   "execution_count": null,
   "id": "wT3gMR_Ri9z5",
   "metadata": {
    "colab": {
     "base_uri": "https://localhost:8080/",
     "height": 317
    },
    "id": "wT3gMR_Ri9z5",
    "outputId": "018c0da0-aef1-4179-eab5-ea1f15f93523"
   },
   "outputs": [
    {
     "data": {
      "text/plain": [
       "<matplotlib.axes._subplots.AxesSubplot at 0x7f167b433a00>"
      ]
     },
     "execution_count": 311,
     "metadata": {},
     "output_type": "execute_result"
    },
    {
     "data": {
      "image/png": "[encoded data removed]",
      "text/plain": [
       "<Figure size 432x288 with 1 Axes>"
      ]
     },
     "metadata": {
      "needs_background": "light"
     },
     "output_type": "display_data"
    }
   ],
   "source": [
    "all_optim_data = pd.concat([data_rms, data_adamw], ignore_index=True)\n",
    "sns.lineplot(data=all_optim_data, y='loss', x='steps', hue='optim', palette='bright')"
   ]
  },
  {
   "cell_type": "code",
   "execution_count": null,
   "id": "POLKqEvHjO5h",
   "metadata": {
    "colab": {
     "base_uri": "https://localhost:8080/",
     "height": 314
    },
    "id": "POLKqEvHjO5h",
    "outputId": "528722ec-c032-4934-e4ca-979b0d7bc96d"
   },
   "outputs": [
    {
     "data": {
      "text/plain": [
       "<matplotlib.axes._subplots.AxesSubplot at 0x7f167a4aecd0>"
      ]
     },
     "execution_count": 312,
     "metadata": {},
     "output_type": "execute_result"
    },
    {
     "data": {
      "image/png": "[encoded data removed]",
      "text/plain": [
       "<Figure size 432x288 with 1 Axes>"
      ]
     },
     "metadata": {
      "needs_background": "light"
     },
     "output_type": "display_data"
    }
   ],
   "source": [
    "sns.lineplot(data=all_optim_data, y='F1', x='steps', hue='optim', palette='bright')"
   ]
  },
  {
   "cell_type": "code",
   "execution_count": null,
   "id": "A4U5X62vnGQ-",
   "metadata": {
    "colab": {
     "base_uri": "https://localhost:8080/"
    },
    "id": "A4U5X62vnGQ-",
    "outputId": "9d5fe13a-99a4-405e-bc19-92114841e709"
   },
   "outputs": [
    {
     "name": "stdout",
     "output_type": "stream",
     "text": [
      "Input shape: (3467, 4407)\n",
      "Post shape: (3467, 4407)\n",
      "Row: 49283, Col: 49283, data: 49283\n",
      "Post post shape: torch.Size([3467, 4407])\n",
      "Input shape: (280, 4407)\n",
      "Post shape: (280, 4407)\n",
      "Row: 3131, Col: 3131, data: 3131\n",
      "Post post shape: torch.Size([280, 4407])\n",
      "Done\n"
     ]
    }
   ],
   "source": [
    "# recreate sparse tensor and matrix\n",
    "X_train_tokenized = []\n",
    "documents = train_data['text'].values\n",
    "for doc in documents:\n",
    "    X_train_tokenized.append(tokenize(doc))\n",
    "# X_dev tokenized\n",
    "X_dev_tokenized = []\n",
    "for word in X_dev:\n",
    "  X_dev_tokenized.append(tokenize(word))\n",
    "\n",
    "# X_train\n",
    "X_train_t_sparse, master_list_t = build_sparse_tdm(X_train_tokenized)\n",
    "X_train_t_tensor = to_sparse_tensor(X_train_t_sparse)\n",
    "\n",
    "# X_dev\n",
    "X_dev_t_sparse = rebuild_sparse_tdm(X_dev_tokenized, master_list_t)\n",
    "X_dev_t_tensor = to_sparse_tensor(X_dev_t_sparse)\n",
    "\n",
    "model = LogisticRegression(list(X_train_t_tensor[0].shape)[0])\n",
    "\n",
    "loss_vals, all_dev_loss, all_f1 = train_py_torch_model(X_train_t_tensor, y_train_tensor, X_dev_t_tensor, y_dev_tensor, pytorch_epochs=1, pytorch_steps=2000, pytorch_lr=0.01, need_to_eval=True, evaluate_on_n_step=50)\n",
    "data_t = pd.DataFrame(columns = ['steps', 'loss', 'F1'])\n",
    "data_t['steps'] = list(range(0, 2000, 50))\n",
    "data_t['loss'] = all_dev_loss\n",
    "data_t['F1'] = all_f1"
   ]
  },
  {
   "cell_type": "code",
   "execution_count": null,
   "id": "Pj8DDm6qrHHE",
   "metadata": {
    "colab": {
     "base_uri": "https://localhost:8080/",
     "height": 315
    },
    "id": "Pj8DDm6qrHHE",
    "outputId": "8d0094f6-9e31-4b5a-ab46-98aa084815b4"
   },
   "outputs": [
    {
     "data": {
      "text/plain": [
       "<matplotlib.axes._subplots.AxesSubplot at 0x7f167fb83790>"
      ]
     },
     "execution_count": 318,
     "metadata": {},
     "output_type": "execute_result"
    },
    {
     "data": {
      "image/png": "[encoded data removed]",
      "text/plain": [
       "<Figure size 432x288 with 1 Axes>"
      ]
     },
     "metadata": {
      "needs_background": "light"
     },
     "output_type": "display_data"
    }
   ],
   "source": [
    "sns.lineplot(data=data_t, y='F1', x='steps', palette='bright')"
   ]
  },
  {
   "cell_type": "code",
   "execution_count": null,
   "id": "EkYSZoNPsM8Q",
   "metadata": {
    "colab": {
     "base_uri": "https://localhost:8080/",
     "height": 314
    },
    "id": "EkYSZoNPsM8Q",
    "outputId": "87f8b8b2-0c20-4697-d047-bb1150bd9cf8"
   },
   "outputs": [
    {
     "data": {
      "text/plain": [
       "<matplotlib.axes._subplots.AxesSubplot at 0x7f1682c9a910>"
      ]
     },
     "execution_count": 319,
     "metadata": {},
     "output_type": "execute_result"
    },
    {
     "data": {
      "image/png": "[encoded data removed]",
      "text/plain": [
       "<Figure size 432x288 with 1 Axes>"
      ]
     },
     "metadata": {
      "needs_background": "light"
     },
     "output_type": "display_data"
    }
   ],
   "source": [
    "sns.lineplot(data=data_t, y='loss', x='steps', palette='bright')"
   ]
  },
  {
   "cell_type": "code",
   "execution_count": null,
   "id": "_8S1KYMGsipR",
   "metadata": {
    "colab": {
     "base_uri": "https://localhost:8080/"
    },
    "id": "_8S1KYMGsipR",
    "outputId": "5def1f15-e86f-4b47-8293-b8810e635227"
   },
   "outputs": [
    {
     "name": "stdout",
     "output_type": "stream",
     "text": [
      "Done\n",
      "Done\n"
     ]
    }
   ],
   "source": [
    "model = LogisticRegression(list(sparse_tdm_tensor[0].shape)[0])\n",
    "\n",
    "loss_vals_lr_high, all_dev_loss_lr_high, all_f1_lr_high = train_py_torch_model(sparse_tdm_tensor, y_train_tensor, X_dev_sparse_tensor, y_dev_tensor, pytorch_epochs=1, pytorch_steps=2000, pytorch_lr=0.7, need_to_eval=True, evaluate_on_n_step=50)\n",
    "data_t_lr_high = pd.DataFrame(columns = ['steps', 'loss', 'F1'])\n",
    "data_t_lr_high['steps'] = list(range(0, 2000, 50))\n",
    "data_t_lr_high['loss'] = all_dev_loss_lr_high\n",
    "data_t_lr_high['F1'] = all_f1_lr_high\n",
    "data_t_lr_high['LR'] = 0.7\n",
    "\n",
    "loss_vals_lr_low, all_dev_loss_lr_low, all_f1_lr_low = train_py_torch_model(sparse_tdm_tensor, y_train_tensor, X_dev_sparse_tensor, y_dev_tensor, pytorch_epochs=1, pytorch_steps=2000, pytorch_lr=0.0005, need_to_eval=True, evaluate_on_n_step=50)\n",
    "data_t_lr_low = pd.DataFrame(columns = ['steps', 'loss', 'F1'])\n",
    "data_t_lr_low['steps'] = list(range(0, 2000, 50))\n",
    "data_t_lr_low['loss'] = all_dev_loss_lr_low\n",
    "data_t_lr_low['F1'] = all_f1_lr_low\n",
    "data_t_lr_low['LR'] = 0.0005\n",
    "all_tr_data = pd.concat([data_t_lr_high, data_t_lr_low], ignore_index=True)"
   ]
  },
  {
   "cell_type": "code",
   "execution_count": null,
   "id": "yxYEarkrti9y",
   "metadata": {
    "colab": {
     "base_uri": "https://localhost:8080/",
     "height": 314
    },
    "id": "yxYEarkrti9y",
    "outputId": "e70ac70a-e965-4497-e6be-e5538df0f00d"
   },
   "outputs": [
    {
     "data": {
      "text/plain": [
       "<matplotlib.axes._subplots.AxesSubplot at 0x7f1682c97a90>"
      ]
     },
     "execution_count": 324,
     "metadata": {},
     "output_type": "execute_result"
    },
    {
     "data": {
      "image/png": "[encoded data removed]",
      "text/plain": [
       "<Figure size 432x288 with 1 Axes>"
      ]
     },
     "metadata": {
      "needs_background": "light"
     },
     "output_type": "display_data"
    }
   ],
   "source": [
    "sns.lineplot(data=all_tr_data, y='F1', x='steps', hue='LR', palette='bright')"
   ]
  },
  {
   "cell_type": "code",
   "execution_count": null,
   "id": "k5SkFUATt0aW",
   "metadata": {
    "colab": {
     "base_uri": "https://localhost:8080/",
     "height": 314
    },
    "id": "k5SkFUATt0aW",
    "outputId": "7cc67d6f-39ed-4915-dd76-0a27bb0c724a"
   },
   "outputs": [
    {
     "data": {
      "text/plain": [
       "<matplotlib.axes._subplots.AxesSubplot at 0x7f167c83eac0>"
      ]
     },
     "execution_count": 325,
     "metadata": {},
     "output_type": "execute_result"
    },
    {
     "data": {
      "image/png": "[encoded data removed]",
      "text/plain": [
       "<Figure size 432x288 with 1 Axes>"
      ]
     },
     "metadata": {
      "needs_background": "light"
     },
     "output_type": "display_data"
    }
   ],
   "source": [
    "sns.lineplot(data=all_tr_data, y='loss', x='steps', hue='LR', palette='bright')"
   ]
  }
 ],
 "metadata": {
  "colab": {
   "provenance": []
  },
  "kernelspec": {
   "display_name": "Python 3 (ipykernel)",
   "language": "python",
   "name": "python3"
  },
  "language_info": {
   "codemirror_mode": {
    "name": "ipython",
    "version": 3
   },
   "file_extension": ".py",
   "mimetype": "text/x-python",
   "name": "python",
   "nbconvert_exporter": "python",
   "pygments_lexer": "ipython3",
   "version": "3.10.9"
  }
 },
 "nbformat": 4,
 "nbformat_minor": 5
}
